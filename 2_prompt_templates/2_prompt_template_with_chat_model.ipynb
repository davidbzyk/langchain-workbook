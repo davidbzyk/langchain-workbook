{
  "cells": [
    {
      "cell_type": "code",
      "execution_count": 1,
      "metadata": {},
      "outputs": [],
      "source": [
        "from dotenv import load_dotenv\n",
        "from langchain.prompts import ChatPromptTemplate\n",
        "from langchain_openai import ChatOpenAI\n",
        "\n",
        "# Load environment variables from .env\n",
        "load_dotenv()\n",
        "\n",
        "# Create a ChatOpenAI model\n",
        "model = ChatOpenAI(model=\"gpt-4o\")"
      ]
    },
    {
      "cell_type": "code",
      "execution_count": 2,
      "metadata": {},
      "outputs": [
        {
          "name": "stdout",
          "output_type": "stream",
          "text": [
            "-----Prompt from Template-----\n",
            "Sure, here's a cat joke for you:\n",
            "\n",
            "Why was the cat sitting on the computer?\n",
            "\n",
            "Because it wanted to keep an eye on the mouse! 🐱💻🖱️\n"
          ]
        }
      ],
      "source": [
        "# PART 1: Create a ChatPromptTemplate using a template string\n",
        "print(\"-----Prompt from Template-----\")\n",
        "template = \"Tell me a joke about {topic}.\"\n",
        "prompt_template = ChatPromptTemplate.from_template(template)\n",
        "\n",
        "prompt = prompt_template.invoke({\"topic\": \"cats\"})\n",
        "result = model.invoke(prompt)\n",
        "print(result.content)"
      ]
    },
    {
      "cell_type": "code",
      "execution_count": 4,
      "metadata": {},
      "outputs": [
        {
          "name": "stdout",
          "output_type": "stream",
          "text": [
            "\n",
            "----- Prompt with Multiple Placeholders -----\n",
            "\n",
            "Once upon a time, in a lush bamboo forest, there lived a chubby panda named Bao Bao. Bao Bao loved two things more than anything else in the world: eating bamboo and taking naps. One sunny afternoon, after a particularly hearty bamboo feast, Bao Bao decided to find the perfect napping spot. \n",
            "\n",
            "As he wandered through the forest, he stumbled upon a strange, shiny object partially buried in the ground. Curious, Bao Bao dug it out and discovered it was a golden alarm clock. He had no idea what it was, but it looked pretty and shiny, so he decided to take it with him.\n",
            "\n",
            "Bao Bao found a cozy spot under a big, shady tree and settled in for his nap, placing the golden alarm clock next to him. Little did he know, the alarm clock was set to go off in exactly 10 minutes.\n",
            "\n",
            "Just as Bao Bao was drifting into a blissful sleep, the alarm clock started ringing loudly, \"BEEP! BEEP! BEEP!\" Bao Bao jumped up, startled, and looked around frantically. He had never heard such a noise before! In a panic, he grabbed the clock and tried to stop the noise by shaking it, hugging it, and even sitting on it, but nothing worked.\n",
            "\n",
            "In his frantic attempts, Bao Bao accidentally pressed a button, and the ringing finally stopped. Relieved but curious, Bao Bao examined the clock and tried to figure out its purpose. After a few moments of contemplation, he decided it must be a magical bamboo-finding device.\n",
            "\n",
            "Excited by his discovery, Bao Bao carried the golden alarm clock with him everywhere, believing it would lead him to the best bamboo in the forest. Whenever the alarm would go off, Bao Bao would run in the direction it was pointing, only to find more bamboo to munch on.\n",
            "\n",
            "From that day on, Bao Bao was known as the luckiest panda in the forest, always finding the juiciest bamboo. Little did he know, it was just his own sense of adventure and a bit of luck that led him to his delicious discoveries. And so, Bao Bao lived happily ever after, with a full belly and a shiny \"bamboo-finding\" clock by his side.\n"
          ]
        }
      ],
      "source": [
        "# PART 2: Prompt with Multiple Placeholders\n",
        "print(\"\\n----- Prompt with Multiple Placeholders -----\\n\")\n",
        "template_multiple = \"\"\"You are a helpful assistant.\n",
        "Human: Tell me a {adjective} short story about a {animal}.\n",
        "Assistant:\"\"\"\n",
        "prompt_multiple = ChatPromptTemplate.from_template(template_multiple)\n",
        "prompt = prompt_multiple.invoke({\"adjective\": \"funny\", \"animal\": \"panda\"})\n",
        "\n",
        "result = model.invoke(prompt)\n",
        "print(result.content)\n",
        "\n"
      ]
    },
    {
      "cell_type": "code",
      "execution_count": 6,
      "metadata": {},
      "outputs": [
        {
          "name": "stdout",
          "output_type": "stream",
          "text": [
            "\n",
            "----- Prompt with System and Human Messages (Tuple) -----\n",
            "\n",
            "Sure, here are three monkey-themed jokes for you:\n",
            "\n",
            "1. Why don't monkeys play cards in the jungle?\n",
            "   Because there are too many cheetahs!\n",
            "\n",
            "2. What do you call a monkey who loves to dance?\n",
            "   A funky monkey!\n",
            "\n",
            "3. Why did the monkey like the banana?\n",
            "   Because it had appeal!\n"
          ]
        }
      ],
      "source": [
        "# PART 3: Prompt with System and Human Messages (Using Tuples)\n",
        "print(\"\\n----- Prompt with System and Human Messages (Tuple) -----\\n\")\n",
        "messages = [\n",
        "    (\"system\", \"You are a comedian who tells jokes about {topic}.\"),\n",
        "    (\"human\", \"Tell me {joke_count} jokes.\"),\n",
        "]\n",
        "prompt_template = ChatPromptTemplate.from_messages(messages)\n",
        "prompt = prompt_template.invoke({\"topic\": \"monkeys\", \"joke_count\": 3})\n",
        "result = model.invoke(prompt)\n",
        "print(result.content)\n"
      ]
    }
  ],
  "metadata": {
    "anaconda-cloud": {},
    "kernelspec": {
      "display_name": "Python 3",
      "language": "python",
      "name": "python3"
    },
    "language_info": {
      "codemirror_mode": {
        "name": "ipython",
        "version": 3
      },
      "file_extension": ".py",
      "mimetype": "text/x-python",
      "name": "python",
      "nbconvert_exporter": "python",
      "pygments_lexer": "ipython3",
      "version": "3.11.9"
    }
  },
  "nbformat": 4,
  "nbformat_minor": 4
}
