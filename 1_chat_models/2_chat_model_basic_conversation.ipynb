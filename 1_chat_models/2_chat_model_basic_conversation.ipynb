{
  "cells": [
    {
      "cell_type": "code",
      "execution_count": 1,
      "metadata": {},
      "outputs": [
        {
          "data": {
            "text/plain": [
              "True"
            ]
          },
          "execution_count": 1,
          "metadata": {},
          "output_type": "execute_result"
        }
      ],
      "source": [
        "from dotenv import load_dotenv\n",
        "from langchain_core.messages import AIMessage, HumanMessage, SystemMessage\n",
        "from langchain_openai import ChatOpenAI\n",
        "# Load environment variables from .env\n",
        "load_dotenv()"
      ]
    },
    {
      "cell_type": "code",
      "execution_count": 9,
      "metadata": {},
      "outputs": [
        {
          "name": "stdout",
          "output_type": "stream",
          "text": [
            "Converted /home/dave/Desktop/AI/LANGCHAIN/langchain-crash-course/5_agents_and_tools/tools_deep_dive/1_tool_constructor.py to /home/dave/Desktop/AI/LANGCHAIN/langchain-crash-course/5_agents_and_tools/tools_deep_dive/1_tool_constructor.ipynb\n",
            "Converted /home/dave/Desktop/AI/LANGCHAIN/langchain-crash-course/5_agents_and_tools/tools_deep_dive/3_tool_base_tool.py to /home/dave/Desktop/AI/LANGCHAIN/langchain-crash-course/5_agents_and_tools/tools_deep_dive/3_tool_base_tool.ipynb\n",
            "Converted /home/dave/Desktop/AI/LANGCHAIN/langchain-crash-course/5_agents_and_tools/tools_deep_dive/2_tool_decorator.py to /home/dave/Desktop/AI/LANGCHAIN/langchain-crash-course/5_agents_and_tools/tools_deep_dive/2_tool_decorator.ipynb\n"
          ]
        }
      ],
      "source": [
        "import os\n",
        "import subprocess\n",
        "\n",
        "# Directory containing .py files\n",
        "directory = '/home/dave/Desktop/AI/LANGCHAIN/langchain-crash-course/5_agents_and_tools/tools_deep_dive'\n",
        "\n",
        "# Iterate through all files in the directory\n",
        "for filename in os.listdir(directory):\n",
        "    if filename.endswith(\".py\"):\n",
        "        py_file = os.path.join(directory, filename)\n",
        "        ipynb_file = os.path.join(directory, filename.replace(\".py\", \".ipynb\"))\n",
        "        \n",
        "        # Convert .py to .ipynb\n",
        "        command = f'ipynb-py-convert {py_file} {ipynb_file}'\n",
        "        subprocess.run(command, shell=True)\n",
        "        print(f'Converted {py_file} to {ipynb_file}')\n"
      ]
    },
    {
      "cell_type": "code",
      "execution_count": 2,
      "metadata": {},
      "outputs": [],
      "source": [
        "# Create a ChatOpenAI model\n",
        "model = ChatOpenAI(model=\"gpt-4o\")"
      ]
    },
    {
      "cell_type": "code",
      "execution_count": 3,
      "metadata": {},
      "outputs": [
        {
          "name": "stdout",
          "output_type": "stream",
          "text": [
            "Answer from AI: To solve 81 divided by 9, you simply need to perform the division:\n",
            "\n",
            "\\[ 81 \\div 9 = 9 \\]\n",
            "\n",
            "So, 81 divided by 9 equals 9.\n",
            "Answer from AI: 10 times 5 is 50.\n"
          ]
        }
      ],
      "source": [
        "\n",
        "# SystemMessage:\n",
        "#   Message for priming AI behavior, usually passed in as the first of a sequenc of input messages.\n",
        "# HumanMessagse:\n",
        "#   Message from a human to the AI model.\n",
        "messages = [\n",
        "    SystemMessage(content=\"Solve the following math problems\"),\n",
        "    HumanMessage(content=\"What is 81 divided by 9?\"),\n",
        "]\n",
        "\n",
        "# Invoke the model with messages\n",
        "result = model.invoke(messages)\n",
        "print(f\"Answer from AI: {result.content}\")\n",
        "\n",
        "\n",
        "# AIMessage:\n",
        "#   Message from an AI.\n",
        "messages = [\n",
        "    SystemMessage(content=\"Solve the following math problems\"),\n",
        "    HumanMessage(content=\"What is 81 divided by 9?\"),\n",
        "    AIMessage(content=\"81 divided by 9 is 9.\"),\n",
        "    HumanMessage(content=\"What is 10 times 5?\"),\n",
        "]\n",
        "\n",
        "# Invoke the model with messages\n",
        "result = model.invoke(messages)\n",
        "print(f\"Answer from AI: {result.content}\")\n"
      ]
    }
  ],
  "metadata": {
    "anaconda-cloud": {},
    "kernelspec": {
      "display_name": "Python 3",
      "language": "python",
      "name": "python3"
    },
    "language_info": {
      "codemirror_mode": {
        "name": "ipython",
        "version": 3
      },
      "file_extension": ".py",
      "mimetype": "text/x-python",
      "name": "python",
      "nbconvert_exporter": "python",
      "pygments_lexer": "ipython3",
      "version": "3.11.9"
    }
  },
  "nbformat": 4,
  "nbformat_minor": 4
}
