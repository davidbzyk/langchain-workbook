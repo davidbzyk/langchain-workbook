{
  "cells": [
    {
      "cell_type": "code",
      "execution_count": 1,
      "metadata": {},
      "outputs": [
        {
          "name": "stderr",
          "output_type": "stream",
          "text": [
            "/home/dave/miniconda3/envs/lcc/lib/python3.11/site-packages/tqdm/auto.py:21: TqdmWarning: IProgress not found. Please update jupyter and ipywidgets. See https://ipywidgets.readthedocs.io/en/stable/user_install.html\n",
            "  from .autonotebook import tqdm as notebook_tqdm\n"
          ]
        }
      ],
      "source": [
        "from langchain_google_genai import ChatGoogleGenerativeAI\n",
        "from langchain_anthropic import ChatAnthropic\n",
        "from langchain_openai import ChatOpenAI\n",
        "from dotenv import load_dotenv\n",
        "from langchain_core.messages import HumanMessage, SystemMessage"
      ]
    },
    {
      "cell_type": "code",
      "execution_count": 2,
      "metadata": {},
      "outputs": [
        {
          "data": {
            "text/plain": [
              "True"
            ]
          },
          "execution_count": 2,
          "metadata": {},
          "output_type": "execute_result"
        }
      ],
      "source": [
        "# Setup environment variables and messages\n",
        "load_dotenv()"
      ]
    },
    {
      "cell_type": "code",
      "execution_count": 3,
      "metadata": {},
      "outputs": [
        {
          "name": "stdout",
          "output_type": "stream",
          "text": [
            "Answer from OpenAI: To solve 81 divided by 9, you perform the division:\n",
            "\n",
            "\\[ 81 \\div 9 = 9 \\]\n",
            "\n",
            "So, 81 divided by 9 is 9.\n"
          ]
        }
      ],
      "source": [
        "\n",
        "\n",
        "messages = [\n",
        "    SystemMessage(content=\"Solve the following math problems\"),\n",
        "    HumanMessage(content=\"What is 81 divided by 9?\"),\n",
        "]\n",
        "\n",
        "\n",
        "# ---- LangChain OpenAI Chat Model Example ----\n",
        "\n",
        "# Create a ChatOpenAI model\n",
        "model = ChatOpenAI(model=\"gpt-4o\")\n",
        "\n",
        "# Invoke the model with messages\n",
        "result = model.invoke(messages)\n",
        "print(f\"Answer from OpenAI: {result.content}\")\n",
        "\n",
        "\n"
      ]
    },
    {
      "cell_type": "code",
      "execution_count": 4,
      "metadata": {},
      "outputs": [
        {
          "name": "stdout",
          "output_type": "stream",
          "text": [
            "Answer from Anthropic: 81 divided by 9 equals 9.\n",
            "\n",
            "To explain:\n",
            "81 ÷ 9 = 9\n",
            "\n",
            "This is because 9 multiplied by 9 equals 81:\n",
            "9 × 9 = 81\n",
            "\n",
            "So, when you divide 81 by 9, the answer is 9, as the division operation is the inverse of multiplication.\n"
          ]
        }
      ],
      "source": [
        "# ---- Anthropic Chat Model Example ----\n",
        "\n",
        "# Create a Anthropic model\n",
        "# Anthropic models: https://docs.anthropic.com/en/docs/models-overview\n",
        "model = ChatAnthropic(model=\"claude-3-opus-20240229\")\n",
        "\n",
        "result = model.invoke(messages)\n",
        "print(f\"Answer from Anthropic: {result.content}\")\n",
        "\n",
        "\n"
      ]
    },
    {
      "cell_type": "code",
      "execution_count": 5,
      "metadata": {},
      "outputs": [
        {
          "name": "stdout",
          "output_type": "stream",
          "text": [
            "Answer from Google: 81 divided by 9 is **9**. \n",
            "\n"
          ]
        }
      ],
      "source": [
        "# ---- Google Chat Model Example ----\n",
        "\n",
        "# https://console.cloud.google.com/gen-app-builder/engines\n",
        "# https://ai.google.dev/gemini-api/docs/models/gemini\n",
        "model = ChatGoogleGenerativeAI(model=\"gemini-1.5-flash\")\n",
        "\n",
        "result = model.invoke(messages)\n",
        "print(f\"Answer from Google: {result.content}\")\n"
      ]
    }
  ],
  "metadata": {
    "anaconda-cloud": {},
    "kernelspec": {
      "display_name": "Python 3",
      "language": "python",
      "name": "python3"
    },
    "language_info": {
      "codemirror_mode": {
        "name": "ipython",
        "version": 3
      },
      "file_extension": ".py",
      "mimetype": "text/x-python",
      "name": "python",
      "nbconvert_exporter": "python",
      "pygments_lexer": "ipython3",
      "version": "3.11.9"
    }
  },
  "nbformat": 4,
  "nbformat_minor": 4
}
